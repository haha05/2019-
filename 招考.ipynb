{
 "cells": [
  {
   "cell_type": "code",
   "execution_count": 1,
   "metadata": {},
   "outputs": [],
   "source": [
    "import xlrd\n",
    "# 打开Excel文件读取数据\n",
    "data = xlrd.open_workbook('2019.xls') \n",
    "table = data.sheets()[2]"
   ]
  },
  {
   "cell_type": "code",
   "execution_count": 12,
   "metadata": {},
   "outputs": [
    {
     "name": "stdout",
     "output_type": "stream",
     "text": [
      "[['部门代码', '部门名称', '用人司局', '机构性质', '招考职位', '107102', '天津市通信管理局', '业务处室', '中央国家行政机关省级以下直属机构', '主任科员及以下', '107103', '河北省通信管理局', '网络安全管理处', '中央国家行政机关省级以下直属机构', '主任科员及以下', '107104', '山西省通信管理局', '办公室', '中央国家行政机关省级以下直属机构', '主任科员及以下', '107106', '辽宁省通信管理局', '大连市通信管理局', '中央国家行政机关省级以下直属机构', '主任科员及以下'], ['部门代码', '部门名称', '用人司局', '机构性质', '招考职位', '107102', '天津市通信管理局', '业务处室', '中央国家行政机关省级以下直属机构', '主任科员及以下', '107103', '河北省通信管理局', '网络安全管理处', '中央国家行政机关省级以下直属机构', '主任科员及以下', '107104', '山西省通信管理局', '办公室', '中央国家行政机关省级以下直属机构', '主任科员及以下', '107106', '辽宁省通信管理局', '大连市通信管理局', '中央国家行政机关省级以下直属机构', '主任科员及以下'], ['部门代码', '部门名称', '用人司局', '机构性质', '招考职位', '107102', '天津市通信管理局', '业务处室', '中央国家行政机关省级以下直属机构', '主任科员及以下', '107103', '河北省通信管理局', '网络安全管理处', '中央国家行政机关省级以下直属机构', '主任科员及以下', '107104', '山西省通信管理局', '办公室', '中央国家行政机关省级以下直属机构', '主任科员及以下', '107106', '辽宁省通信管理局', '大连市通信管理局', '中央国家行政机关省级以下直属机构', '主任科员及以下'], ['部门代码', '部门名称', '用人司局', '机构性质', '招考职位', '107102', '天津市通信管理局', '业务处室', '中央国家行政机关省级以下直属机构', '主任科员及以下', '107103', '河北省通信管理局', '网络安全管理处', '中央国家行政机关省级以下直属机构', '主任科员及以下', '107104', '山西省通信管理局', '办公室', '中央国家行政机关省级以下直属机构', '主任科员及以下', '107106', '辽宁省通信管理局', '大连市通信管理局', '中央国家行政机关省级以下直属机构', '主任科员及以下'], ['部门代码', '部门名称', '用人司局', '机构性质', '招考职位', '107102', '天津市通信管理局', '业务处室', '中央国家行政机关省级以下直属机构', '主任科员及以下', '107103', '河北省通信管理局', '网络安全管理处', '中央国家行政机关省级以下直属机构', '主任科员及以下', '107104', '山西省通信管理局', '办公室', '中央国家行政机关省级以下直属机构', '主任科员及以下', '107106', '辽宁省通信管理局', '大连市通信管理局', '中央国家行政机关省级以下直属机构', '主任科员及以下']]\n"
     ]
    }
   ],
   "source": [
    "work = []\n",
    "work_data = []\n",
    "ls = []\n",
    "for i in range(5):\n",
    "    for j in range(5):\n",
    "        ls.append(table.cell_value(i,j))\n",
    "    work.append(ls)\n",
    "#print(type(table.cell_value))\n",
    "print(work)"
   ]
  },
  {
   "cell_type": "code",
   "execution_count": 13,
   "metadata": {},
   "outputs": [
    {
     "name": "stdout",
     "output_type": "stream",
     "text": [
      "['部门代码', '部门名称', '用人司局', '机构性质', '招考职位', '107102', '天津市通信管理局', '业务处室', '中央国家行政机关省级以下直属机构', '主任科员及以下', '107103', '河北省通信管理局', '网络安全管理处', '中央国家行政机关省级以下直属机构', '主任科员及以下', '107104', '山西省通信管理局', '办公室', '中央国家行政机关省级以下直属机构', '主任科员及以下', '107106', '辽宁省通信管理局', '大连市通信管理局', '中央国家行政机关省级以下直属机构', '主任科员及以下']\n"
     ]
    }
   ],
   "source": [
    "ls = []\n",
    "for i in range(5):\n",
    "    for j in range(5):\n",
    "        ls.append(table.cell_value(i,j))\n",
    "print(ls)"
   ]
  },
  {
   "cell_type": "code",
   "execution_count": 15,
   "metadata": {},
   "outputs": [
    {
     "name": "stdout",
     "output_type": "stream",
     "text": [
      "部门代码,部门名称,用人司局,机构性质,招考职位,\n",
      "\n",
      "107102,天津市通信管理局,业务处室,中央国家行政机关省级以下直属机构,主任科员及以下,\n",
      "\n",
      "107103,河北省通信管理局,网络安全管理处,中央国家行政机关省级以下直属机构,主任科员及以下,\n",
      "\n",
      "107104,山西省通信管理局,办公室,中央国家行政机关省级以下直属机构,主任科员及以下,\n",
      "\n",
      "107106,辽宁省通信管理局,大连市通信管理局,中央国家行政机关省级以下直属机构,主任科员及以下,\n",
      "\n"
     ]
    }
   ],
   "source": [
    "for i in range(5):\n",
    "    for j in range(5):\n",
    "        print(table.cell_value(i,j),end=\",\")\n",
    "    print(\"\\n\")"
   ]
  },
  {
   "cell_type": "code",
   "execution_count": 47,
   "metadata": {},
   "outputs": [
    {
     "name": "stdout",
     "output_type": "stream",
     "text": [
      "3\n",
      "[['107108', '黑龙江省通信管理局', '信息通信发展处', '中央国家行政机关省级以下直属机构', '主任科员及以下', '普通职位（不含非通用语、特殊专业职位）', '其他职位', '负责所在地信息通信行业发展态势研究、政策起草、数据统计相关工作', '300110002001', '省（副省）级', '省级以上(含副省级)职位', '1', '电子信息类、计算机类（以上均为一级学科）', '本科及以上', '与最高学历相对应的学位', '不限', '二年', '无限制', '否', '5:1', '黑龙江省哈尔滨市', '黑龙江省哈尔滨市', '具有两年及以上信息通信或互联网行业工作经历；本科以上学历均要求双证齐全；职位要求专业为报考者最高学历对应专业', 'http://www.hlca.gov.cn/', '01068205929', '', ''], ['107108', '黑龙江省通信管理局', '网络安全管理处', '中央国家行政机关省级以下直属机构', '主任科员及以下', '普通职位（不含非通用语、特殊专业职位）', '其他职位', '负责所在地电信和互联网行业网络与信息安全管理工作', '300110003001', '省（副省）级', '省级以上(含副省级)职位', '1', '电子科学与技术、信息与通信工程、计算机科学与技术（以上均为一级学科）、集成电路工程、电子与通信工程、计算机技术', '硕士研究生及以上', '与最高学历相对应的学位', '不限', '二年', '无限制', '否', '5:1', '黑龙江省哈尔滨市', '黑龙江省哈尔滨市', '具有两年及以上信息通信或互联网行业工作经历；本科以上学历均要求双证齐全；职位要求专业为报考者最高学历对应专业', 'http://www.hlca.gov.cn/', '01068205929', '', '']]\n",
      "2\n"
     ]
    }
   ],
   "source": [
    "\n",
    "work_set = []\n",
    "for i in range(10):\n",
    "    ls = []\n",
    "    for j in range(27):\n",
    "        ls.append(table.cell_value(i,j))\n",
    "    work_set.append(ls)\n",
    "#print(work) \n",
    "work_place = []\n",
    "for line in work_set:\n",
    "    if \"黑龙江\" in line[21]:\n",
    "        work_place.append(line)\n",
    "#如果采用以下方法遍历，得含有黑龙江的记录，则会重复返回，因为一条记录里可能包含多个黑龙江的信息\n",
    "'''\n",
    "for line in work_set:\n",
    "   for data in line:\n",
    "       if \"黑龙江\" in data:\n",
    "           work_place.append(line)'''\n",
    "print(len(work_place))\n",
    "work = []\n",
    "for line in work_place:\n",
    "    for data in line:\n",
    "        if \"电子\" in data:\n",
    "            work.append(line)\n",
    "print(work)\n",
    "print(len(work))\n",
    "            "
   ]
  },
  {
   "cell_type": "code",
   "execution_count": 49,
   "metadata": {},
   "outputs": [
    {
     "name": "stdout",
     "output_type": "stream",
     "text": [
      "[['107108', '黑龙江省通信管理局', '信息通信发展处', '中央国家行政机关省级以下直属机构', '主任科员及以下', '普通职位（不含非通用语、特殊专业职位）', '其他职位', '负责所在地信息通信行业发展态势研究、政策起草、数据统计相关工作', '300110002001', '省（副省）级', '省级以上(含副省级)职位', '1', '电子信息类、计算机类（以上均为一级学科）', '本科及以上', '与最高学历相对应的学位', '不限', '二年', '无限制', '否', '5:1', '黑龙江省哈尔滨市', '黑龙江省哈尔滨市', '具有两年及以上信息通信或互联网行业工作经历；本科以上学历均要求双证齐全；职位要求专业为报考者最高学历对应专业', 'http://www.hlca.gov.cn/', '01068205929', '', ''], ['107108', '黑龙江省通信管理局', '网络安全管理处', '中央国家行政机关省级以下直属机构', '主任科员及以下', '普通职位（不含非通用语、特殊专业职位）', '其他职位', '负责所在地电信和互联网行业网络与信息安全管理工作', '300110003001', '省（副省）级', '省级以上(含副省级)职位', '1', '电子科学与技术、信息与通信工程、计算机科学与技术（以上均为一级学科）、集成电路工程、电子与通信工程、计算机技术', '硕士研究生及以上', '与最高学历相对应的学位', '不限', '二年', '无限制', '否', '5:1', '黑龙江省哈尔滨市', '黑龙江省哈尔滨市', '具有两年及以上信息通信或互联网行业工作经历；本科以上学历均要求双证齐全；职位要求专业为报考者最高学历对应专业', 'http://www.hlca.gov.cn/', '01068205929', '', '']]\n",
      "2\n"
     ]
    }
   ],
   "source": [
    "work_set = []\n",
    "for i in range(10):\n",
    "    ls = []\n",
    "    for j in range(27):\n",
    "        ls.append(table.cell_value(i,j))\n",
    "    work_set.append(ls)\n",
    "#print(work) \n",
    "work_place = []\n",
    "for line in work_set:\n",
    "    if \"黑龙江\" in line[20] and \"电子\" in line[12]:\n",
    "        work_place.append(line)\n",
    "print(work_place)\n",
    "print(len(work_place))"
   ]
  },
  {
   "cell_type": "code",
   "execution_count": null,
   "metadata": {},
   "outputs": [],
   "source": []
  },
  {
   "cell_type": "code",
   "execution_count": 55,
   "metadata": {},
   "outputs": [
    {
     "name": "stdout",
     "output_type": "stream",
     "text": [
      "67\n",
      "6427\n"
     ]
    }
   ],
   "source": [
    "import xlrd\n",
    "data = xlrd.open_workbook('2019.xls') \n",
    "table = data.sheets()[2]\n",
    "work_set = []\n",
    "for i in range(table.nrows):\n",
    "    ls = []\n",
    "    for j in range(table.ncols):\n",
    "        ls.append(table.cell_value(i,j))\n",
    "    work_set.append(ls)\n",
    "work_data = []\n",
    "for line in work_set:\n",
    "    if \"广东\" in line[20] and \"经济\" in line[12]:\n",
    "        work_data.append(line)\n",
    "print(len(work_data)) \n",
    "#print(table.nrows)\n",
    "print(len(work_set))"
   ]
  },
  {
   "cell_type": "code",
   "execution_count": 62,
   "metadata": {},
   "outputs": [],
   "source": [
    "import xlwt\n",
    "wb = xlwt.Workbook()\n",
    "ws = wb.add_sheet('sheet1')\n",
    "i = 0\n",
    "j = 0\n",
    "for m in range(table.ncols):\n",
    "    ws.write(0,m,work_set[0][m])\n",
    "for line in work_data:\n",
    "    i += 1\n",
    "    j = 0\n",
    "    for data in line:\n",
    "        ws.write(i,j,data)\n",
    "        j += 1\n",
    "    \n",
    "\n",
    "wb.save('work3.xls')"
   ]
  },
  {
   "cell_type": "code",
   "execution_count": null,
   "metadata": {},
   "outputs": [],
   "source": []
  },
  {
   "cell_type": "code",
   "execution_count": null,
   "metadata": {},
   "outputs": [],
   "source": []
  },
  {
   "cell_type": "code",
   "execution_count": null,
   "metadata": {},
   "outputs": [],
   "source": []
  },
  {
   "cell_type": "code",
   "execution_count": null,
   "metadata": {},
   "outputs": [],
   "source": []
  },
  {
   "cell_type": "code",
   "execution_count": null,
   "metadata": {},
   "outputs": [],
   "source": []
  },
  {
   "cell_type": "code",
   "execution_count": null,
   "metadata": {},
   "outputs": [],
   "source": []
  },
  {
   "cell_type": "code",
   "execution_count": null,
   "metadata": {},
   "outputs": [],
   "source": []
  },
  {
   "cell_type": "code",
   "execution_count": null,
   "metadata": {},
   "outputs": [],
   "source": []
  },
  {
   "cell_type": "code",
   "execution_count": null,
   "metadata": {},
   "outputs": [],
   "source": []
  }
 ],
 "metadata": {
  "kernelspec": {
   "display_name": "Python 3",
   "language": "python",
   "name": "python3"
  },
  "language_info": {
   "codemirror_mode": {
    "name": "ipython",
    "version": 3
   },
   "file_extension": ".py",
   "mimetype": "text/x-python",
   "name": "python",
   "nbconvert_exporter": "python",
   "pygments_lexer": "ipython3",
   "version": "3.7.1"
  }
 },
 "nbformat": 4,
 "nbformat_minor": 2
}
